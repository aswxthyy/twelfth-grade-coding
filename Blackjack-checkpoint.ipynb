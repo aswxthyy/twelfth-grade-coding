{
 "cells": [
  {
   "cell_type": "code",
   "execution_count": null,
   "metadata": {},
   "outputs": [],
   "source": [
    "Black Jack\n",
    "\n",
    "Computer dealer and Human player.\n",
    "Dealer starts with 1 card face up and 1 card face down.\n",
    "Player starts with 2 cards face up.\n",
    "\n",
    "Player goes first in gameplay\n",
    "\n",
    "GOAL: Get closer to total value of 21 than the dealer does.\n",
    "\n",
    "POSSIBLE ACTIONS:\n",
    "    \n",
    "    'HIT'  (Receive another card from the deck)\n",
    "    'STAY' (Stop receiving cards)\n",
    "    \n",
    "    **'Insurance' , 'Split' and 'Double Down' will be ignored**\n",
    "    \n",
    "AFTER PLAYER TURN:\n",
    "    \n",
    "    If player is under 21, dealer then hits until they either 'beat' the player or the dealer 'busts'\n",
    "    **'BUST' means go OVER 21**\n",
    "\n",
    "    The game is then over and the dealer collects all of the money\n",
    "    \n",
    "HOW THE GAME ENDS:\n",
    "    \n",
    "    1. If the player keeps hitting and goes over 21, they 'bust' and lose the bet\n",
    "    \n",
    "       The game is then over and the dealer collects all of the money\n",
    "        \n",
    "    \n",
    "    2. COMPUTER SUM is higher than PLAYER SUM but is still 'under 21'\n",
    "    \n",
    "    \n",
    "SPECIAL RULES:\n",
    "    \n",
    "    1. Face Cards (J,Q,K) count as a value of '10'\n",
    "    2. Aces can count as either '1' or '11' (\"player's wish\")\n",
    "    \n",
    "    \n",
    "\n",
    "    "
   ]
  },
  {
   "cell_type": "code",
   "execution_count": 5,
   "metadata": {},
   "outputs": [],
   "source": [
    "import random   #  to randomly shuffle the deck\n",
    "\n",
    "suits = ('Hearts','Diamonds','Spades','Clubs')\n",
    "ranks = ('Two','Three','Four','Five','Six','Seven','Eight','Nine','Ten','Jack','Queen','King','Ace')\n",
    "values = {'Two': 2,'Three': 3,'Four': 4,'Five': 5,'Six': 6,'Seven':7,'Eight': 8,'Nine': 9,'Ten': 10,'Jack': 10,'Queen': 10,'King': 10,'Ace':11}\n",
    "\n",
    "playing = True  # used to control the flow of the game in while loop"
   ]
  },
  {
   "cell_type": "code",
   "execution_count": 6,
   "metadata": {},
   "outputs": [],
   "source": [
    "class Card:\n",
    "    \n",
    "    def __init__(self,suit,rank):  # For an object CARD, the 2 attributes are SUIT and RANK\n",
    "        self.suit = suit\n",
    "        self.rank = rank\n",
    "        \n",
    "    def __str__(self):\n",
    "        return self.rank + ' of ' + self.suit"
   ]
  },
  {
   "cell_type": "code",
   "execution_count": 7,
   "metadata": {},
   "outputs": [],
   "source": [
    "class Deck:\n",
    "    \n",
    "    def __init__(self):\n",
    "        self.deck = []                             # Start with an empty list\n",
    "        for suit in suits:\n",
    "            for rank in ranks:\n",
    "                self.deck.append(Card(suit,rank))  # Building Card objects and adding them to the list\n",
    "    \n",
    "    def __str__(self):\n",
    "        deck_comp = ''                             # Start with an empty string\n",
    "        for card in self.deck:\n",
    "            deck_comp += '\\n '+card.__str__()      # Adding each card to the deck\n",
    "        return 'The deck has:' + deck_comp\n",
    "\n",
    "    def shuffle(self):\n",
    "        random.shuffle(self.deck)                   \n",
    "        \n",
    "    def deal(self):                               # To take a card from the deck\n",
    "        single_card = self.deck.pop()             # Assigning the value of the last random card takne from the deck\n",
    "        return single_card"
   ]
  },
  {
   "cell_type": "code",
   "execution_count": 8,
   "metadata": {},
   "outputs": [
    {
     "name": "stdout",
     "output_type": "stream",
     "text": [
      "The deck has:\n",
      " Two of Hearts\n",
      " Three of Hearts\n",
      " Four of Hearts\n",
      " Five of Hearts\n",
      " Six of Hearts\n",
      " Seven of Hearts\n",
      " Eight of Hearts\n",
      " Nine of Hearts\n",
      " Ten of Hearts\n",
      " Jack of Hearts\n",
      " Queen of Hearts\n",
      " King of Hearts\n",
      " Ace of Hearts\n",
      " Two of Diamonds\n",
      " Three of Diamonds\n",
      " Four of Diamonds\n",
      " Five of Diamonds\n",
      " Six of Diamonds\n",
      " Seven of Diamonds\n",
      " Eight of Diamonds\n",
      " Nine of Diamonds\n",
      " Ten of Diamonds\n",
      " Jack of Diamonds\n",
      " Queen of Diamonds\n",
      " King of Diamonds\n",
      " Ace of Diamonds\n",
      " Two of Spades\n",
      " Three of Spades\n",
      " Four of Spades\n",
      " Five of Spades\n",
      " Six of Spades\n",
      " Seven of Spades\n",
      " Eight of Spades\n",
      " Nine of Spades\n",
      " Ten of Spades\n",
      " Jack of Spades\n",
      " Queen of Spades\n",
      " King of Spades\n",
      " Ace of Spades\n",
      " Two of Clubs\n",
      " Three of Clubs\n",
      " Four of Clubs\n",
      " Five of Clubs\n",
      " Six of Clubs\n",
      " Seven of Clubs\n",
      " Eight of Clubs\n",
      " Nine of Clubs\n",
      " Ten of Clubs\n",
      " Jack of Clubs\n",
      " Queen of Clubs\n",
      " King of Clubs\n",
      " Ace of Clubs\n"
     ]
    }
   ],
   "source": [
    "test_deck = Deck()\n",
    "print(test_deck)"
   ]
  },
  {
   "cell_type": "code",
   "execution_count": 9,
   "metadata": {},
   "outputs": [
    {
     "name": "stdout",
     "output_type": "stream",
     "text": [
      "The deck has:\n",
      " Three of Spades\n",
      " Three of Clubs\n",
      " Jack of Hearts\n",
      " Ten of Spades\n",
      " Six of Diamonds\n",
      " King of Clubs\n",
      " Seven of Hearts\n",
      " Eight of Hearts\n",
      " Queen of Hearts\n",
      " Six of Hearts\n",
      " Ace of Hearts\n",
      " Ace of Spades\n",
      " Nine of Clubs\n",
      " Ten of Clubs\n",
      " Four of Spades\n",
      " Eight of Spades\n",
      " Six of Clubs\n",
      " Nine of Diamonds\n",
      " Two of Diamonds\n",
      " King of Spades\n",
      " Seven of Spades\n",
      " Four of Clubs\n",
      " Ten of Diamonds\n",
      " Five of Clubs\n",
      " Queen of Clubs\n",
      " Two of Hearts\n",
      " Six of Spades\n",
      " Nine of Spades\n",
      " Two of Clubs\n",
      " Ace of Diamonds\n",
      " King of Diamonds\n",
      " Eight of Clubs\n",
      " Three of Diamonds\n",
      " Queen of Diamonds\n",
      " Five of Diamonds\n",
      " Jack of Clubs\n",
      " Jack of Spades\n",
      " Seven of Diamonds\n",
      " Two of Spades\n",
      " Ace of Clubs\n",
      " Queen of Spades\n",
      " Five of Hearts\n",
      " King of Hearts\n",
      " Seven of Clubs\n",
      " Three of Hearts\n",
      " Ten of Hearts\n",
      " Four of Diamonds\n",
      " Jack of Diamonds\n",
      " Four of Hearts\n",
      " Five of Spades\n",
      " Eight of Diamonds\n",
      " Nine of Hearts\n"
     ]
    }
   ],
   "source": [
    "test_deck = Deck()\n",
    "test_deck.shuffle()\n",
    "print(test_deck)"
   ]
  },
  {
   "cell_type": "code",
   "execution_count": 9,
   "metadata": {},
   "outputs": [],
   "source": [
    "class Hand:     # Cards currently in hand\n",
    "    \n",
    "    def __init__(self):\n",
    "        self.cards = []  # Start with an empty list like the DECK class\n",
    "        self.value = 0   # Sum of current card values\n",
    "        self.aces = 0    # Keep track of aces in hand\n",
    "        \n",
    "    def add_card(self,card):\n",
    "        # From Deck.deal()  ---> SINGLE_CARD\n",
    "        self.cards.append(card)\n",
    "        self.value += values[card.rank]\n",
    "        \n",
    "        #Track aces\n",
    "        if (card.rank == 'Ace'):\n",
    "            self.ace += 1\n",
    "        \n",
    "    def adjust_for_ace(self):\n",
    "        \n",
    "        # If total value > 21 and I still have an ace\n",
    "        # Then change my ace to be a 1 instead of an 11\n",
    "        while self.value > 21 and self.aces > 0:\n",
    "            self.value -= 10\n",
    "            self.aces -= 1"
   ]
  },
  {
   "cell_type": "code",
   "execution_count": 10,
   "metadata": {},
   "outputs": [],
   "source": [
    "class Hand:\n",
    "    \n",
    "    def __init__(self):\n",
    "        self.cards = []  # start with an empty list as we did in the Deck class\n",
    "        self.value = 0   # start with zero value\n",
    "        self.aces = 0    # add an attribute to keep track of aces\n",
    "    \n",
    "    def add_card(self,card):\n",
    "        self.cards.append(card)\n",
    "        self.value += values[card.rank]\n",
    "        if card.rank == 'Ace':\n",
    "            self.aces += 1  # add to self.aces\n",
    "    \n",
    "    def adjust_for_ace(self):\n",
    "        while self.value > 21 and self.aces:\n",
    "            self.value -= 10\n",
    "            self.aces -= 1"
   ]
  },
  {
   "cell_type": "code",
   "execution_count": null,
   "metadata": {},
   "outputs": [],
   "source": [
    "# Truthiness of 0\n",
    "\n",
    "0 is considered as 'False' while all the other numbers are 'True'\n"
   ]
  },
  {
   "cell_type": "code",
   "execution_count": 11,
   "metadata": {},
   "outputs": [],
   "source": [
    "zero = 0\n",
    "one = 1\n",
    "two = 2"
   ]
  },
  {
   "cell_type": "code",
   "execution_count": 13,
   "metadata": {},
   "outputs": [],
   "source": [
    "if zero:\n",
    "    print ('True')"
   ]
  },
  {
   "cell_type": "code",
   "execution_count": 14,
   "metadata": {},
   "outputs": [
    {
     "name": "stdout",
     "output_type": "stream",
     "text": [
      "True\n"
     ]
    }
   ],
   "source": [
    "if one:\n",
    "    print('True')"
   ]
  },
  {
   "cell_type": "code",
   "execution_count": 15,
   "metadata": {},
   "outputs": [
    {
     "name": "stdout",
     "output_type": "stream",
     "text": [
      "True\n"
     ]
    }
   ],
   "source": [
    "if two:\n",
    "    print ('True')"
   ]
  },
  {
   "cell_type": "code",
   "execution_count": 11,
   "metadata": {},
   "outputs": [
    {
     "name": "stdout",
     "output_type": "stream",
     "text": [
      "Eight of Spades\n",
      "8\n"
     ]
    }
   ],
   "source": [
    "test_deck = Deck()\n",
    "test_deck.shuffle()\n",
    "\n",
    "# PLAYER\n",
    "test_player = Hand()              # Player starts off with no cards, no values, no aces\n",
    "\n",
    "pulled_card = test_deck.deal()    # Deal 1 card from the deck \n",
    "print(pulled_card)\n",
    "\n",
    "test_player.add_card(pulled_card) # Adding the pulled card to the player's hand\n",
    "print(test_player.value)            "
   ]
  },
  {
   "cell_type": "code",
   "execution_count": 12,
   "metadata": {},
   "outputs": [
    {
     "name": "stdout",
     "output_type": "stream",
     "text": [
      "Four of Diamonds\n",
      "18\n"
     ]
    }
   ],
   "source": [
    "test_player.add_card(test_deck.deal())\n",
    "print(test_deck.deal())\n",
    "print(test_player.value)"
   ]
  },
  {
   "cell_type": "code",
   "execution_count": 13,
   "metadata": {},
   "outputs": [],
   "source": [
    "class Chips:\n",
    "    \n",
    "    def __init__(self,total = 100):\n",
    "        self.total = total\n",
    "        self.bet = 0\n",
    "        \n",
    "    def win_bet(self):\n",
    "        self.total += self.bet\n",
    "    \n",
    "    def lose_bet(self):\n",
    "        self.total -= self.bet"
   ]
  },
  {
   "cell_type": "code",
   "execution_count": 27,
   "metadata": {},
   "outputs": [],
   "source": [
    "########################################### Functions for game play #######################################################"
   ]
  },
  {
   "cell_type": "code",
   "execution_count": 14,
   "metadata": {},
   "outputs": [],
   "source": [
    "def take_bet(chips):\n",
    "    \n",
    "    while True:\n",
    "        \n",
    "        try:\n",
    "            chips.bet = int(input('How many chips would you like to bet?   '))\n",
    "        \n",
    "        except:\n",
    "            print('Please enter an integer')\n",
    "            \n",
    "        else:  \n",
    "            if chips.bet > chips.total:\n",
    "                print(\"Sorry, you have a total of only {}\".format(chips.total))\n",
    "            else:\n",
    "                break"
   ]
  },
  {
   "cell_type": "code",
   "execution_count": 15,
   "metadata": {},
   "outputs": [],
   "source": [
    "def hit(deck,hand):\n",
    "    \n",
    "    single_card = deck.deal()    # Take a card form the deck\n",
    "    hand.add_card(single_card)   # Add to the hand\n",
    "    hand.adjust_for_ace()        # Check for any ace adjustments"
   ]
  },
  {
   "cell_type": "code",
   "execution_count": 16,
   "metadata": {},
   "outputs": [],
   "source": [
    "def hit_or_stand(deck,hand):\n",
    "    \n",
    "    global playing                   # To control an upcoming while loop\n",
    "    \n",
    "    while True:\n",
    "        x = input('Hit or Stand?  ') # Player may enter anything 'hit' or 'H' or 'Stand' etc.\n",
    "        \n",
    "        if x[0].lower() == 'h':\n",
    "            hit(deck,hand)\n",
    "        elif x[0].lower() == 's':\n",
    "            print(\"Player stands. Dealer's turn.\")\n",
    "            playing  = False\n",
    "        else:\n",
    "            print(\"Please enter 'hit' or 'stand' :   \")\n",
    "            continue\n",
    "            \n",
    "        break"
   ]
  },
  {
   "cell_type": "code",
   "execution_count": 17,
   "metadata": {},
   "outputs": [],
   "source": [
    "def show_some(player,dealer):\n",
    "    print(\"\\nDealer's Hand:\")\n",
    "    print(\" <card hidden>\")\n",
    "    print('',dealer.cards[1])  \n",
    "    print(\"\\nPlayer's Hand:\", *player.cards, sep='\\n ')\n",
    "    \n",
    "def show_all(player,dealer):\n",
    "    print(\"\\nDealer's Hand:\", *dealer.cards, sep='\\n ')\n",
    "    print(\"Dealer's Hand =\",dealer.value)\n",
    "    print(\"\\nPlayer's Hand:\", *player.cards, sep='\\n ')\n",
    "    print(\"Player's Hand =\",player.value)"
   ]
  },
  {
   "cell_type": "code",
   "execution_count": 18,
   "metadata": {},
   "outputs": [],
   "source": [
    "def player_busts(player,dealer,chips):\n",
    "    print('Player Busts! Dealer wins!')\n",
    "    chips.lose_bet()\n",
    "\n",
    "def player_wins(player,dealer,chips):\n",
    "    print('Player Wins!')\n",
    "    chips.win_bet\n",
    "\n",
    "def dealer_busts(player,dealer,chips):\n",
    "    print('Player Wins! Dealer Busted!')\n",
    "    chips.win_bet\n",
    "\n",
    "def dealer_wins(player,dealer,chips):\n",
    "    print('Dealer Wins!')\n",
    "    chips.lose_bet()\n",
    "\n",
    "def push(player,dealer):\n",
    "    print ('Tie game! PUSH')\n"
   ]
  },
  {
   "cell_type": "code",
   "execution_count": null,
   "metadata": {},
   "outputs": [
    {
     "name": "stdout",
     "output_type": "stream",
     "text": [
      "Welcome to Blackjack!\n",
      "You have 100 chips\n"
     ]
    }
   ],
   "source": [
    "while True:\n",
    "    \n",
    "    # Print an opening statement\n",
    "    print('Welcome to Blackjack!')\n",
    "    print('You have 100 chips')\n",
    "    \n",
    "    # Create and shuffle the deck, deal two cards to each player\n",
    "    deck = Deck()\n",
    "    deck.shuffle()\n",
    "    \n",
    "    player_hand = Hand()\n",
    "    player_hand.add_card(deck.deal())     # Add the first card to player's hand\n",
    "    player_hand.add_card(deck.deal())     # Add the second card to player's hand\n",
    "    \n",
    "    dealer_hand = Hand()\n",
    "    dealer_hand.add_card(deck.deal())     # Add the first card to dealer's hand\n",
    "    dealer_hand.add_card(deck.deal())     # Add the second card to dealer's hand\n",
    "    \n",
    "    \n",
    "    # Set up the player's chips\n",
    "    player_chips = Chips()\n",
    "    \n",
    "    # Prompt the player for their bet\n",
    "    take_bet(player_chips)\n",
    "    \n",
    "    # Show cards (but keep one dealer card hidden)\n",
    "    show_some(player_hand,dealer_hand)\n",
    "    \n",
    "    while playing:     # Recall this variable from hit_or_stand function\n",
    "        \n",
    "        # Prompt for player to Hit or Stand\n",
    "        hit_or_stand(deck,player_hand)\n",
    "        \n",
    "        # Show cards (but keep one dealer card hidden)\n",
    "        show_some(player_hand,dealer_hand)\n",
    "        \n",
    "        # If player's hand exceeds 21, run player_busts() and break out of loop\n",
    "        if player_hand.value > 21:\n",
    "            player_busts(player_hand,dealer_hand,player_chips)\n",
    "            \n",
    "            break\n",
    "            \n",
    "    # If player hasn't been busted play dealer's hand until it reaches the player's value\n",
    "    if player_hand.value <= 21:\n",
    "        \n",
    "        while dealer_hand.value < player_hand.value:\n",
    "            hit(deck,dealer_hand)\n",
    "            \n",
    "        # Show all cards\n",
    "        show_all(player_hand,dealer_hand)\n",
    "        \n",
    "        # Run different winning scenarios\n",
    "        if dealer_hand.value > 21:\n",
    "            dealer_busts(player_hand,dealer_hand,player_chips)      \n",
    "        elif dealer_hand.value > player_hand.value:\n",
    "            dealer_wins(player_hand,dealer_hand,player_chips)\n",
    "        elif dealer_hand.value < player_hand.value:\n",
    "            player_wins(player_hand,dealer_hand,player_chips)\n",
    "        else:\n",
    "            push(player_hand,dealer_hand)\n",
    "        \n",
    "    # Inform player of their chips total\n",
    "    print(\"\\n Player's total chips : {}\".format(player_chips.total))\n",
    "    \n",
    "    # Ask to play again\n",
    "    new_game = input('Would you like to play another hand?  ')\n",
    "    \n",
    "    if new_game[0].lower() == 'y':\n",
    "        playing = True\n",
    "        continue\n",
    "    else:\n",
    "        print('Thank you for playing!')\n",
    "        \n",
    "        break\n",
    "        "
   ]
  },
  {
   "cell_type": "code",
   "execution_count": null,
   "metadata": {},
   "outputs": [],
   "source": []
  }
 ],
 "metadata": {
  "kernelspec": {
   "display_name": "Python 3",
   "language": "python",
   "name": "python3"
  }
 },
 "nbformat": 4,
 "nbformat_minor": 4
}
